{
 "cells": [
  {
   "cell_type": "code",
   "execution_count": 3,
   "id": "8311b984",
   "metadata": {},
   "outputs": [
    {
     "name": "stdout",
     "output_type": "stream",
     "text": [
      "The Total instances in the Dataset:  18\n",
      "Target Category wise Number of Records\n",
      "<class 'pandas.core.frame.DataFrame'>\n",
      "RangeIndex: 18 entries, 0 to 17\n",
      "Data columns (total 2 columns):\n",
      " #   Column   Non-Null Count  Dtype \n",
      "---  ------   --------------  ----- \n",
      " 0   Message  18 non-null     object\n",
      " 1   Label    18 non-null     object\n",
      "dtypes: object(2)\n",
      "memory usage: 420.0+ bytes\n",
      "Prediction for test set: [0 0 0 1 0]\n",
      "              precision    recall  f1-score   support\n",
      "\n",
      "           0       0.50      1.00      0.67         2\n",
      "           1       1.00      0.33      0.50         3\n",
      "\n",
      "    accuracy                           0.60         5\n",
      "   macro avg       0.75      0.67      0.58         5\n",
      "weighted avg       0.80      0.60      0.57         5\n",
      "\n",
      "Enter any statement to predict: I like this biryani\n",
      "Statement is Positive\n"
     ]
    },
    {
     "data": {
      "image/png": "[encoded data removed]",
      "text/plain": [
       "<Figure size 640x480 with 2 Axes>"
      ]
     },
     "metadata": {},
     "output_type": "display_data"
    }
   ],
   "source": [
    "# Importing Libraries\n",
    "import numpy as np\n",
    "import pandas as pd\n",
    "import matplotlib.pyplot as plt\n",
    "import seaborn as sb\n",
    "from sklearn.model_selection import train_test_split\n",
    "from sklearn.feature_extraction.text import CountVectorizer\n",
    "from sklearn.neural_network import MLPClassifier\n",
    "from sklearn.metrics import classification_report, confusion_matrix\n",
    "\n",
    "# Data Acquisition and About Data\n",
    "data = pd.read_csv('C:\\\\Trash\\\\Finite Words.csv', names=['Message', 'Label'])\n",
    "print(\"The Total instances in the Dataset: \", data.shape[0])\n",
    "\n",
    "# Display the first few rows of the dataset\n",
    "data.head()\n",
    "\n",
    "# Show the number of records for each target category\n",
    "print('Target Category wise Number of Records')\n",
    "data.groupby('Label').size()\n",
    "\n",
    "# Display information about the dataset, including data types and non-null values\n",
    "data.info()\n",
    "\n",
    "# Mapping the label to binary form\n",
    "data['class'] = data.Label.map({'pos': 1, 'neg': 0})\n",
    "data.head()\n",
    "\n",
    "# Splitting Train and Test Dataset\n",
    "X = data[\"Message\"]\n",
    "y = data[\"class\"]\n",
    "X_train, X_test, y_train, y_test = train_test_split(X, y, test_size=0.25, random_state=0, stratify=y)\n",
    "\n",
    "# Vectorization using CountVectorizer\n",
    "count_vect = CountVectorizer()\n",
    "X_train_dims = count_vect.fit_transform(X_train)\n",
    "X_test_dims = count_vect.transform(X_test)\n",
    "df = pd.DataFrame(X_train_dims.toarray(), columns=count_vect.get_feature_names_out())\n",
    "\n",
    "# Model Building\n",
    "# Create an MLP Classifier\n",
    "mlp = MLPClassifier(solver='lbfgs', alpha=1e-5, hidden_layer_sizes=(5, 2), random_state=1)\n",
    "mlp.fit(X_train_dims, y_train)\n",
    "\n",
    "# Prediction of Test Dataset\n",
    "y_pred = mlp.predict(X_test_dims)\n",
    "\n",
    "# Print the predicted values\n",
    "print(\"Prediction for test set:\", y_pred)\n",
    "\n",
    "# Actual value and the predicted value\n",
    "test = pd.DataFrame({'Actual value': y_test, 'Predicted value': y_pred})\n",
    "test\n",
    "\n",
    "# Evaluation of the Model\n",
    "matrix = confusion_matrix(y_test, y_pred)\n",
    "sb.heatmap(matrix, annot=True, fmt=\"d\")\n",
    "plt.title('Confusion Matrix')\n",
    "plt.xlabel('Predicted')\n",
    "plt.ylabel('True')\n",
    "print(classification_report(y_test, y_pred))\n",
    "\n",
    "# Prediction for New Unseen Statement\n",
    "test_stmt = [input(\"Enter any statement to predict: \")]\n",
    "test_dims = count_vect.transform(test_stmt)\n",
    "pred = mlp.predict(test_dims)\n",
    "if pred == 1:\n",
    "    print(\"Statement is Positive\")\n",
    "else:\n",
    "    print(\"Statement is Negative\")\n"
   ]
  },
  {
   "cell_type": "code",
   "execution_count": null,
   "id": "c18fd472",
   "metadata": {},
   "outputs": [],
   "source": []
  },
  {
   "cell_type": "code",
   "execution_count": null,
   "id": "4750a8e9",
   "metadata": {},
   "outputs": [],
   "source": []
  }
 ],
 "metadata": {
  "kernelspec": {
   "display_name": "Python 3 (ipykernel)",
   "language": "python",
   "name": "python3"
  },
  "language_info": {
   "codemirror_mode": {
    "name": "ipython",
    "version": 3
   },
   "file_extension": ".py",
   "mimetype": "text/x-python",
   "name": "python",
   "nbconvert_exporter": "python",
   "pygments_lexer": "ipython3",
   "version": "3.11.3"
  }
 },
 "nbformat": 4,
 "nbformat_minor": 5
}
