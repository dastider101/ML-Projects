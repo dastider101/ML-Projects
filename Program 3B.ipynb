{
 "cells": [
  {
   "cell_type": "markdown",
   "id": "0f0e5a37",
   "metadata": {},
   "source": [
    "#### Importing Libraries\n"
   ]
  },
  {
   "cell_type": "code",
   "execution_count": 1,
   "id": "6ea7b7e2",
   "metadata": {},
   "outputs": [],
   "source": [
    "import numpy as np\n",
    "import pandas as pd\n",
    "import matplotlib.pyplot as plt\n",
    "import seaborn as sb\n",
    "from sklearn.model_selection import train_test_split\n",
    "import statsmodels.api as sm\n",
    "from sklearn.linear_model import SGDRegressor\n",
    "from sklearn.metrics import mean_squared_error"
   ]
  },
  {
   "cell_type": "markdown",
   "id": "8532441e",
   "metadata": {},
   "source": [
    "#### About the Dataset"
   ]
  },
  {
   "cell_type": "code",
   "execution_count": 2,
   "id": "ec2ea7e1",
   "metadata": {},
   "outputs": [
    {
     "name": "stdout",
     "output_type": "stream",
     "text": [
      "      price  area  bedrooms  bathrooms  stories mainroad guestroom basement  \\\n",
      "0  13300000  7420         4          2        3      yes        no       no   \n",
      "1  12250000  8960         4          4        4      yes        no       no   \n",
      "2  12250000  9960         3          2        2      yes        no      yes   \n",
      "3  12215000  7500         4          2        2      yes        no      yes   \n",
      "4  11410000  7420         4          1        2      yes       yes      yes   \n",
      "\n",
      "  hotwaterheating airconditioning  parking prefarea furnishingstatus  \n",
      "0              no             yes        2      yes        furnished  \n",
      "1              no             yes        3       no        furnished  \n",
      "2              no              no        2      yes   semi-furnished  \n",
      "3              no             yes        3      yes        furnished  \n",
      "4              no             yes        2       no        furnished  \n",
      "<class 'pandas.core.frame.DataFrame'>\n",
      "RangeIndex: 545 entries, 0 to 544\n",
      "Data columns (total 13 columns):\n",
      " #   Column            Non-Null Count  Dtype \n",
      "---  ------            --------------  ----- \n",
      " 0   price             545 non-null    int64 \n",
      " 1   area              545 non-null    int64 \n",
      " 2   bedrooms          545 non-null    int64 \n",
      " 3   bathrooms         545 non-null    int64 \n",
      " 4   stories           545 non-null    int64 \n",
      " 5   mainroad          545 non-null    object\n",
      " 6   guestroom         545 non-null    object\n",
      " 7   basement          545 non-null    object\n",
      " 8   hotwaterheating   545 non-null    object\n",
      " 9   airconditioning   545 non-null    object\n",
      " 10  parking           545 non-null    int64 \n",
      " 11  prefarea          545 non-null    object\n",
      " 12  furnishingstatus  545 non-null    object\n",
      "dtypes: int64(6), object(7)\n",
      "memory usage: 55.5+ KB\n",
      "None\n",
      "(545, 13)\n",
      "Index(['price', 'area', 'bedrooms', 'bathrooms', 'stories', 'mainroad',\n",
      "       'guestroom', 'basement', 'hotwaterheating', 'airconditioning',\n",
      "       'parking', 'prefarea', 'furnishingstatus'],\n",
      "      dtype='object')\n",
      "              price          area    bedrooms   bathrooms     stories  \\\n",
      "count  5.450000e+02    545.000000  545.000000  545.000000  545.000000   \n",
      "mean   4.766729e+06   5150.541284    2.965138    1.286239    1.805505   \n",
      "std    1.870440e+06   2170.141023    0.738064    0.502470    0.867492   \n",
      "min    1.750000e+06   1650.000000    1.000000    1.000000    1.000000   \n",
      "25%    3.430000e+06   3600.000000    2.000000    1.000000    1.000000   \n",
      "50%    4.340000e+06   4600.000000    3.000000    1.000000    2.000000   \n",
      "75%    5.740000e+06   6360.000000    3.000000    2.000000    2.000000   \n",
      "max    1.330000e+07  16200.000000    6.000000    4.000000    4.000000   \n",
      "\n",
      "          parking  \n",
      "count  545.000000  \n",
      "mean     0.693578  \n",
      "std      0.861586  \n",
      "min      0.000000  \n",
      "25%      0.000000  \n",
      "50%      0.000000  \n",
      "75%      1.000000  \n",
      "max      3.000000  \n"
     ]
    }
   ],
   "source": [
    "df = pd.read_csv(\"C:\\\\Trash\\\\Housing.csv\")\n",
    "\n",
    "print(df.head())\n",
    "\n",
    "print(df.info())\n",
    "\n",
    "print(df.shape)\n",
    "\n",
    "print(df.columns)\n",
    "\n",
    "print(df.describe())\n"
   ]
  },
  {
   "cell_type": "markdown",
   "id": "aba6b174",
   "metadata": {},
   "source": [
    "#### Pre Processing"
   ]
  },
  {
   "cell_type": "code",
   "execution_count": 3,
   "id": "2832b25d",
   "metadata": {},
   "outputs": [
    {
     "name": "stdout",
     "output_type": "stream",
     "text": [
      "price               0\n",
      "area                0\n",
      "bedrooms            0\n",
      "bathrooms           0\n",
      "stories             0\n",
      "mainroad            0\n",
      "guestroom           0\n",
      "basement            0\n",
      "hotwaterheating     0\n",
      "airconditioning     0\n",
      "parking             0\n",
      "prefarea            0\n",
      "furnishingstatus    0\n",
      "dtype: int64\n",
      "4 4 3 4 4 3 4 5 4 3 3 4 4 4 3 4 4 3 3 3 3 3 3 3 3 4 3 3 5 4 3 3 4 3 5 3 3 4 3 4 3 3 3 4 4 3 3 3 3 3 3 3 4 3 3 3 4 4 4 3 3 2 4 4 3 3 2 3 3 4 3 4 3 2 3 4 3 3 3 3 3 3 3 3 3 3 3 3 3 5 3 2 3 3 4 3 3 3 3 4 3 3 3 3 3 3 4 3 4 4 3 3 6 3 2 3 3 4 3 3 3 3 4 4 3 3 3 3 3 3 3 4 3 3 3 3 4 4 3 3 3 4 4 5 4 3 2 3 3 4 3 4 5 3 3 3 3 4 3 3 4 3 4 3 3 3 3 2 4 4 3 3 3 4 3 4 3 3 3 3 4 3 3 3 3 3 2 3 2 2 4 3 3 2 3 4 3 3 3 3 3 3 2 4 3 3 2 3 3 3 3 3 4 4 2 3 3 3 2 3 4 4 2 3 2 2 3 2 3 4 2 3 3 3 3 3 2 3 4 3 3 3 3 3 3 3 3 4 2 4 3 3 3 2 4 2 3 3 3 2 3 3 2 3 2 3 3 3 4 3 3 5 3 4 4 2 2 2 3 2 2 2 3 4 2 3 3 3 3 2 4 3 4 2 4 3 3 3 3 3 3 3 3 3 3 3 3 3 3 4 3 2 3 3 2 2 4 3 3 4 3 3 3 3 3 4 4 3 3 3 2 3 4 3 2 2 3 4 2 4 5 2 3 2 2 3 2 3 2 3 2 2 2 3 2 3 5 4 2 3 2 3 2 2 3 2 2 2 2 2 2 3 3 2 2 3 3 3 3 3 2 2 3 4 2 2 3 3 3 4 3 3 3 3 3 6 2 2 3 2 2 3 2 3 3 3 2 3 2 2 3 3 3 3 2 3 3 2 4 4 2 2 2 3 3 2 3 3 2 4 2 4 3 4 4 2 3 3 2 2 4 3 2 3 3 1 2 2 2 3 3 2 3 2 3 3 3 3 3 2 2 2 3 2 2 2 3 3 2 2 3 3 4 2 4 2 3 2 3 4 3 2 3 3 2 2 2 4 4 3 3 2 3 3 2 3 2 2 2 3 3 3 2 3 2 3 2 2 2 2 3 3 2 3 3 3 2 2 2 2 2 2 3 4 2 2 2 2 1 3 3 3 2 3 4 2 5 3 2 2 2 3 2 3 3\n"
     ]
    },
    {
     "ename": "NameError",
     "evalue": "name 'cat_var' is not defined",
     "output_type": "error",
     "traceback": [
      "\u001b[1;31m---------------------------------------------------------------------------\u001b[0m",
      "\u001b[1;31mNameError\u001b[0m                                 Traceback (most recent call last)",
      "\u001b[1;32mc:\\Users\\souma\\College Programs\\Program 3B.ipynb Cell 6\u001b[0m line \u001b[0;36m1\n\u001b[0;32m      <a href='vscode-notebook-cell:/c%3A/Users/souma/College%20Programs/Program%203B.ipynb#W5sZmlsZQ%3D%3D?line=6'>7</a>\u001b[0m test_var \u001b[39m=\u001b[39m df\u001b[39m.\u001b[39miloc[:,\u001b[39m2\u001b[39m]\n\u001b[0;32m      <a href='vscode-notebook-cell:/c%3A/Users/souma/College%20Programs/Program%203B.ipynb#W5sZmlsZQ%3D%3D?line=8'>9</a>\u001b[0m \u001b[39mprint\u001b[39m(\u001b[39m*\u001b[39mtest_var)\n\u001b[1;32m---> <a href='vscode-notebook-cell:/c%3A/Users/souma/College%20Programs/Program%203B.ipynb#W5sZmlsZQ%3D%3D?line=10'>11</a>\u001b[0m \u001b[39mfor\u001b[39;00m i \u001b[39min\u001b[39;00m \u001b[39mrange\u001b[39m(\u001b[39mlen\u001b[39m(cat_var)):\n\u001b[0;32m     <a href='vscode-notebook-cell:/c%3A/Users/souma/College%20Programs/Program%203B.ipynb#W5sZmlsZQ%3D%3D?line=11'>12</a>\u001b[0m     \u001b[39mprint\u001b[39m(cat_var[i], df[cat_var[i]]\u001b[39m.\u001b[39mnunique(), df[cat_var[i]]\u001b[39m.\u001b[39munique())\n\u001b[0;32m     <a href='vscode-notebook-cell:/c%3A/Users/souma/College%20Programs/Program%203B.ipynb#W5sZmlsZQ%3D%3D?line=13'>14</a>\u001b[0m var \u001b[39m=\u001b[39m [\u001b[39m'\u001b[39m\u001b[39mprefarea\u001b[39m\u001b[39m'\u001b[39m,\u001b[39m'\u001b[39m\u001b[39mairconditioning\u001b[39m\u001b[39m'\u001b[39m,\u001b[39m'\u001b[39m\u001b[39mhotwaterheating\u001b[39m\u001b[39m'\u001b[39m,\u001b[39m'\u001b[39m\u001b[39mbasement\u001b[39m\u001b[39m'\u001b[39m,\u001b[39m'\u001b[39m\u001b[39mguestroom\u001b[39m\u001b[39m'\u001b[39m,\u001b[39m'\u001b[39m\u001b[39mmainroad\u001b[39m\u001b[39m'\u001b[39m]\n",
      "\u001b[1;31mNameError\u001b[0m: name 'cat_var' is not defined"
     ]
    }
   ],
   "source": [
    "print(df.isnull().sum())\n",
    "\n",
    "at_var = ['price', 'area', 'bedrooms', 'bathrooms', 'stories', 'mainroad',\n",
    "       'guestroom', 'basement', 'hotwaterheating', 'airconditioning',\n",
    "       'parking', 'prefarea', 'furnishingstatus']\n",
    "\n",
    "test_var = df.iloc[:,2]\n",
    "\n",
    "print(*test_var)\n",
    "\n",
    "for i in range(len(cat_var)):\n",
    "    print(cat_var[i], df[cat_var[i]].nunique(), df[cat_var[i]].unique())\n",
    "\n",
    "var = ['prefarea','airconditioning','hotwaterheating','basement','guestroom','mainroad']\n",
    "\n",
    "def binary_map(x):\n",
    "    return list(x.map({'yes': 1, 'no': 0}))\n",
    "\n",
    "df[var] = df[var].apply(binary_map)\n",
    "\n",
    "print(df.head())\n",
    "\n",
    "fs = \"furnishingstatus\"\n",
    "\n",
    "status = pd.get_dummies(df[fs],drop_first=True)\n",
    "df.drop(['furnishingstatus'], axis=1, inplace=True)\n",
    "#print(df[\"furnishingstatus\"].head())\n",
    "\n",
    "#df.insert(13,'furnishing',status)\n",
    "\n",
    "df = pd.concat([df, status], axis=1)\n",
    "\n",
    "\n",
    "\n",
    "print(\"--------------------\")\n",
    "#print(dir(status))\n",
    "print(status)\n",
    "print(\"---------------\")\n",
    "print(df.head())\n",
    "\n",
    "print(df.columns)\n",
    "\n"
   ]
  },
  {
   "cell_type": "markdown",
   "id": "7a9989e5",
   "metadata": {},
   "source": [
    "####  Using iloc to select input and output features"
   ]
  },
  {
   "cell_type": "code",
   "execution_count": null,
   "id": "63cc0ed3",
   "metadata": {},
   "outputs": [],
   "source": [
    "#print(df.head())\n",
    "\n",
    "X = df.iloc[:,1:]\n",
    "y = df.iloc[:,0]\n"
   ]
  },
  {
   "cell_type": "markdown",
   "id": "e7724986",
   "metadata": {},
   "source": [
    "#### Splitting of dataset into Train and Test set"
   ]
  },
  {
   "cell_type": "code",
   "execution_count": null,
   "id": "1e770ab7",
   "metadata": {},
   "outputs": [],
   "source": [
    "X_train, X_test, y_train, y_test = train_test_split(X,y,test_size=0.20, random_state=1)\n",
    "X_train = sm.add_constant(X_train)\n",
    "X_test = sm.add_constant(X_test)\n"
   ]
  },
  {
   "cell_type": "markdown",
   "id": "f7d2cecd",
   "metadata": {},
   "source": [
    "#### OLS Model"
   ]
  },
  {
   "cell_type": "code",
   "execution_count": null,
   "id": "8458d1d1",
   "metadata": {},
   "outputs": [
    {
     "name": "stdout",
     "output_type": "stream",
     "text": [
      "                            OLS Regression Results                            \n",
      "==============================================================================\n",
      "Dep. Variable:                  price   R-squared:                       0.696\n",
      "Model:                            OLS   Adj. R-squared:                  0.686\n",
      "Method:                 Least Squares   F-statistic:                     74.21\n",
      "Date:                Thu, 10 Aug 2023   Prob (F-statistic):          3.02e-100\n",
      "Time:                        08:04:21   Log-Likelihood:                -6644.2\n",
      "No. Observations:                 436   AIC:                         1.332e+04\n",
      "Df Residuals:                     422   BIC:                         1.337e+04\n",
      "Df Model:                          13                                         \n",
      "Covariance Type:            nonrobust                                         \n",
      "===================================================================================\n",
      "                      coef    std err          t      P>|t|      [0.025      0.975]\n",
      "-----------------------------------------------------------------------------------\n",
      "const            5.442e+04   2.78e+05      0.195      0.845   -4.93e+05    6.02e+05\n",
      "area              234.7583     25.683      9.141      0.000     184.276     285.241\n",
      "bedrooms         9.039e+04   7.75e+04      1.166      0.244    -6.2e+04    2.43e+05\n",
      "bathrooms        1.038e+06   1.12e+05      9.299      0.000    8.19e+05    1.26e+06\n",
      "stories          4.918e+05    7.1e+04      6.926      0.000    3.52e+05    6.31e+05\n",
      "mainroad         4.254e+05    1.5e+05      2.827      0.005     1.3e+05    7.21e+05\n",
      "guestroom        3.259e+05   1.43e+05      2.278      0.023    4.47e+04    6.07e+05\n",
      "basement         4.812e+05    1.2e+05      4.008      0.000    2.45e+05    7.17e+05\n",
      "hotwaterheating  9.312e+05   2.39e+05      3.891      0.000    4.61e+05     1.4e+06\n",
      "airconditioning  6.776e+05   1.17e+05      5.800      0.000    4.48e+05    9.07e+05\n",
      "parking          2.613e+05    6.3e+04      4.147      0.000    1.37e+05    3.85e+05\n",
      "prefarea          5.97e+05   1.24e+05      4.821      0.000    3.54e+05     8.4e+05\n",
      "semi-furnished  -7.487e+04   1.24e+05     -0.606      0.545   -3.18e+05    1.68e+05\n",
      "unfurnished      -3.89e+05   1.35e+05     -2.875      0.004   -6.55e+05   -1.23e+05\n",
      "==============================================================================\n",
      "Omnibus:                       67.633   Durbin-Watson:                   2.076\n",
      "Prob(Omnibus):                  0.000   Jarque-Bera (JB):              150.289\n",
      "Skew:                           0.817   Prob(JB):                     2.32e-33\n",
      "Kurtosis:                       5.367   Cond. No.                     3.46e+04\n",
      "==============================================================================\n",
      "\n",
      "Notes:\n",
      "[1] Standard Errors assume that the covariance matrix of the errors is correctly specified.\n",
      "[2] The condition number is large, 3.46e+04. This might indicate that there are\n",
      "strong multicollinearity or other numerical problems.\n",
      "y_pred :  [ 4492553.50044243  6066437.07933102  3000838.2609116   3409820.22346231\n",
      "  2213269.24105035  4102599.130636    3522020.72966768  4305051.77753792\n",
      "  7135068.50971187  5408096.90705387  7405094.23837585  6917396.79406974\n",
      "  3353912.78931101  2795929.81319948  4487906.78227574  2927295.19563206\n",
      "  3886821.21993589  6002951.94877906  7275957.08696159  3797119.22483639\n",
      "  3769247.19536743  3318553.73478753  5820714.46019242  3629588.68045598\n",
      "  4354681.35601348  5682354.57337807  3231646.01730692  4418787.1400352\n",
      "  4236015.70813499  4740449.4942768   5228488.12457272  9660159.17957708\n",
      "  8534417.67852313  4207553.04517273  4122231.31467413  7878119.20179997\n",
      "  2037200.55237197  5543584.0286599   4302599.11570016  3964575.21675781\n",
      "  5025261.615696    2827107.53759481  2090013.95941717  4147414.2942575\n",
      "  4046210.1238785   6417221.23246942  2818459.65795939  6477324.85312374\n",
      "  4461658.72566977  4365295.17345675  3989137.53657596  2651546.2889249\n",
      "  2740754.42452195  5896079.80785378  7142318.80827443  5647397.06817404\n",
      "  3328572.24425415  6877539.72539348  3079959.31797798  6095505.51822348\n",
      "  4249295.93328973  3817365.43738121  6688661.75072421  4013580.03407636\n",
      "  3484540.84626765  4629574.97078235  4510791.55824268  6551882.26958678\n",
      "  6378525.06816698  6370202.51689347  4217825.57268875  3702528.79289421\n",
      "  6236061.77974064  5406257.95558366  3524055.62601924  3619447.82166552\n",
      "  6390907.12161789  6142614.48680423  2746853.60926767  6627721.2436151\n",
      "  7051842.34706506  6177008.98577701  5139424.88068639  3761535.70978616\n",
      "  5129522.7570559   7157841.08466814  2750144.7545848   6431230.04514787\n",
      "  3907754.56379442  4761891.30182424  6738122.71411963  2693802.77420771\n",
      "  3210712.67344839  3108869.5531986   3441306.52573133  3888350.17768634\n",
      "  5929755.10454942  2740754.42452195  6117610.4012441   7801521.37172824\n",
      " 10526802.9956121   4155510.06253794  4550994.59069526  7567100.80425325\n",
      "  2910207.71232067  7332065.83658437  5388423.07274162  3014478.01605882\n",
      "  4133258.07080896  5475284.0811039   6222427.08804001  7859456.27123043\n",
      "  3182099.93747577  5702046.03472004  6302262.21364177  5351056.20922473\n",
      "  4340362.21309718  2750144.7545848   7068701.41845195  3334210.97208698\n",
      "  2217950.00696516  3470113.34187624  4133086.56369635  3599772.98256583\n",
      "  7468203.06276669  5743135.9283033   6900362.37185906  2742205.60863552\n",
      "  3481599.6049296   3141451.78967659  3240794.28233107  3287745.9326453\n",
      "  4108105.8547389   5205908.56879681  5366663.76699748  3386771.74497267\n",
      "  4988705.39956368  5958125.1284047   4064417.37011916  4095561.16505137\n",
      "  4882084.11775022  3584271.631175    2949259.55322862  6164463.47396931\n",
      "  3985638.84724615  3429767.47528756  4561141.94851541  2961342.34166819\n",
      "  3887067.39326506  5466095.97660678  4941443.02507399  3064237.35714137\n",
      "  6017019.11495926  5619999.00192945  5041272.26910104  5791362.43011612\n",
      "  2142841.765579    5091807.33501091  2698042.61294903  4234543.0445451\n",
      "  5995102.42412295  5101616.66020469  2942205.59369967  4904464.84172362\n",
      "  4354681.35601348  4472361.18644241  2653893.87144061  3700432.21889927\n",
      "  3829554.03922592  5671413.71352555  3260741.53415631  5890196.88354003\n",
      "  5434264.88209863  4585045.89409344  4962144.06154794  4911036.8495351\n",
      "  4930309.61341987  3331923.11854482  3308660.91403531  3260926.84845269\n",
      "  3837066.51587729  2976921.47776993  4856516.81636538  3170366.80685971\n",
      "  4257833.58807346  3270568.82804074  6975840.79188677  4424516.7286515\n",
      "  4074884.490418    7164508.28563633  2229695.11910202  4000605.29552747\n",
      "  4648099.84042477  4072815.64144426  6235692.77723054  5052341.60075611\n",
      "  4124970.27317932  7129219.40521344  5019390.26818345  2656241.45395632\n",
      "  2538843.96570221  5115804.16381855  4250449.49736998  3618428.44315086\n",
      "  4602197.91633308  3381841.74712846  7232707.93468764  2851821.10431042\n",
      "  6140307.08865028  2855679.17487923  5832075.36408278  4302153.20839651\n",
      "  4906702.17276629  5614293.79723447  6715074.98252684  7010802.10053277\n",
      "  5034496.79740994  7369209.67175986  6583182.9417547   5778804.46359559\n",
      "  3077146.64338198  4186874.81812542  4648431.50075955  5949080.00343232\n",
      "  7404315.18110844  4352742.67288424  2489544.73287226  4731433.75946385\n",
      "  5230158.12726138  2993297.65969904  2658370.88602931  4092433.58486308\n",
      "  5174194.76599177  3691525.34338522  3908983.76510834  6928071.07543505\n",
      "  7638389.02063963  6614730.69985302  7683753.23431988  2848658.38091403\n",
      "  5551786.79294873  4930821.35298779  5651000.86368247  2344250.40738141\n",
      "  3073627.68720422  6314323.87801508  3818684.43129938  4704729.35893362\n",
      "  4508436.72709707  2298948.80331552  5755158.16716364  6617455.29521444\n",
      "  4923702.76607331  2947346.46786709  4278317.56864882  4553454.23949024\n",
      "  4020182.73406532  4138998.64115034  7077321.63457612  5322540.78522355\n",
      "  4885449.67883998  5450373.61951428  4708313.64060685  5954358.88204766\n",
      "  6311046.81951943  2567972.35136556  2646382.0721588   3993576.9111241\n",
      "  3817395.28171293  6181103.27340672  6813593.54155533  5116757.1348705\n",
      "  2783506.4531032   3942212.12565811  2772453.98804237  5161309.61014937\n",
      "  6128580.53299208  6051736.5874163   5116747.45958018  5097060.03330385\n",
      "  5544102.38718095  3678611.68302396  5016869.19019392  3868296.35029347\n",
      "  3398077.52892125  6409703.97385555  5481479.8473475   4732837.77917815\n",
      "  5964862.8113498   4772006.9721447   3072050.37107948  3692985.94648525\n",
      "  3750817.9860606   2080623.62935433  4423962.14480524  6797240.37057676\n",
      "  7355054.31842132  3826036.70868691  4532208.29032386  3227072.07463793\n",
      "  4302102.88767349  3045200.9065324   5732058.34870906  6480195.45952165\n",
      "  4049740.18483028  6445095.74459009  5279934.35380977  3825532.28006364\n",
      "  6303127.59734284  4744147.2845415   3742010.34899384  4602588.26774766\n",
      "  3172226.15286411  3981259.9233315   8150203.3738674   3299483.84522386\n",
      "  5733445.01188212  5118416.58153539  4457839.4011986   8859903.43161185\n",
      "  4121404.7999018   3810038.12823111  2998552.21110071  7848967.86349045\n",
      "  7360939.73755986  5647163.72029235  2602659.9290846   4886665.33320234\n",
      "  5757934.48536356  4917974.49090361  7103606.34153859  3204167.46529083\n",
      "  4056102.95155042  5962528.88105384  3194084.69705553  7675367.52095365\n",
      "  7558592.1891799   3803244.02068054  4105882.52350809  2821720.45928717\n",
      "  5103903.23874907  3402294.02136638  3035810.57646956  6042271.58204855\n",
      "  4937922.44325747  5618650.73443219  4743803.3960034   3705852.73616161\n",
      "  4237647.6816747   5847707.50176105  5394986.2990779   3949425.62899199\n",
      "  3852721.9601814   3663309.43903662  2783015.69176727  4139672.04701948\n",
      "  3973231.08375108  6208646.34292056  2908158.44766355  4157391.22162426\n",
      "  4496239.21774314  4725956.17916404  5980573.25307124  6001733.24336114\n",
      "  6806139.9974609   2339588.00763264  2916823.11320033  6352251.40046259\n",
      "  5086519.7457018   3651883.51479694  3683743.35080601  5173842.33720909\n",
      "  6904105.22077127  3971159.51889625  5916918.06480984  6537280.70401214\n",
      "  6030510.513526    3953885.49930843  3891947.62042549  3264270.10748818\n",
      "  5572997.29131396  3331539.4965871   8041280.15665168  5748804.20853934\n",
      "  6921689.83419593  5200784.12608372  2998049.72041134  4757942.35916077\n",
      "  4017308.5267645   6897986.38309997  5303319.36663668  4390365.4153064\n",
      "  8210263.04167412  7084825.6814129   6741507.42031567  2725260.37991825\n",
      "  3786600.01767575  5333467.4523815   8202075.78446178  3609359.95533531\n",
      "  7072866.56559917  2610470.79445825  4117984.42131306  4371039.87846113\n",
      "  6582436.52131754  3366189.92219312  4379694.95765486  4239147.87494095\n",
      "  3469685.99520877  5214824.55132242  3416862.97100945  4600222.98977764\n",
      "  5665971.11596249  8444375.30706151  3209583.26071843  7055626.71088021\n",
      "  5519819.11124281  3064995.78695009  3145236.15349174  3852337.11007819\n",
      "  3377684.36979236  4172227.0588899   4520919.50769885  2781353.6639981\n",
      "  4326089.3436714   5047437.6543866   3410062.28850102  5796212.32539009\n",
      "  4447362.54961815  3498056.34494715  2834657.72515042  6999825.35841083\n",
      "  5712683.16790541  5820727.43874012  5296287.97600991  8198294.6501952 ]\n",
      "mean squared error :  1008905364208.9053\n",
      "[8303515.0184678]\n"
     ]
    },
    {
     "data": {
      "image/png": "[encoded data removed]",
      "text/plain": [
       "<Figure size 640x480 with 1 Axes>"
      ]
     },
     "metadata": {},
     "output_type": "display_data"
    }
   ],
   "source": [
    "model = sm.OLS(y_train, X_train)\n",
    "\n",
    "ols = model.fit()\n",
    "\n",
    "print(ols.summary())\n",
    "\n",
    "y_pred = ols.predict()\n",
    "\n",
    "print('y_pred : ',y_pred)\n",
    "\n",
    "mse = mean_squared_error(y_train, y_pred)\n",
    "\n",
    "print(\"mean squared error : \",mse)\n",
    "\n",
    "new_rec = [[1,9000,4,2,3,1,0,0,0,1,2,1,0,0]]\n",
    "print(ols.predict(new_rec))\n",
    "\n",
    "y_true = y_train\n",
    "\n",
    "y_pred = ols.predict()\n",
    "\n",
    "plt.plot(y_true, y_pred, 'o')\n",
    "plt.xlabel('Actual Price')\n",
    "plt.ylabel('Predicted Price')\n",
    "plt.title('Actual vs Predicted Price')\n",
    "plt.show()\n"
   ]
  },
  {
   "cell_type": "markdown",
   "id": "561f6526",
   "metadata": {},
   "source": [
    "#### SGD Regression"
   ]
  },
  {
   "cell_type": "code",
   "execution_count": null,
   "id": "73360196",
   "metadata": {},
   "outputs": [
    {
     "data": {
      "image/png": "[encoded data removed]",
      "text/plain": [
       "<Figure size 640x480 with 1 Axes>"
      ]
     },
     "metadata": {},
     "output_type": "display_data"
    },
    {
     "name": "stdout",
     "output_type": "stream",
     "text": [
      "Mean squared error: 9.769993736172786e+31\n",
      "predicted sales output :  [2.57768748e+16]\n"
     ]
    },
    {
     "name": "stderr",
     "output_type": "stream",
     "text": [
      "C:\\Users\\souma\\anaconda3\\Lib\\site-packages\\sklearn\\base.py:439: UserWarning: X does not have valid feature names, but SGDRegressor was fitted with feature names\n",
      "  warnings.warn(\n"
     ]
    }
   ],
   "source": [
    "sgd = SGDRegressor()\n",
    "\n",
    "sgd.fit(X_train,y_train)\n",
    "\n",
    "prediction = sgd.predict(X_test)\n",
    "\n",
    "#print('sgd',prediction)\n",
    "\n",
    "plt.plot(y_test, prediction, 'o')\n",
    "plt.xlabel('Actual Price')\n",
    "plt.ylabel('Predicted Price')\n",
    "plt.title('Actual vs Predicted Price')\n",
    "plt.show()\n",
    "\n",
    "mse = mean_squared_error(y_test, prediction)\n",
    "\n",
    "print(\"Mean squared error:\", mse)\n",
    "sgd = SGDRegressor()\n",
    "\n",
    "sgd.fit(X_train, y_train)\n",
    "\n",
    "prediction = sgd.predict(new_rec)\n",
    "\n",
    "print('predicted sales output : ',prediction)"
   ]
  },
  {
   "cell_type": "code",
   "execution_count": null,
   "id": "b8c71e38",
   "metadata": {},
   "outputs": [],
   "source": []
  }
 ],
 "metadata": {
  "kernelspec": {
   "display_name": "Python 3 (ipykernel)",
   "language": "python",
   "name": "python3"
  },
  "language_info": {
   "codemirror_mode": {
    "name": "ipython",
    "version": 3
   },
   "file_extension": ".py",
   "mimetype": "text/x-python",
   "name": "python",
   "nbconvert_exporter": "python",
   "pygments_lexer": "ipython3",
   "version": "3.11.3"
  }
 },
 "nbformat": 4,
 "nbformat_minor": 5
}
