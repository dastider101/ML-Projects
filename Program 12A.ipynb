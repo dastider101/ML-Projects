{
 "cells": [
  {
   "cell_type": "code",
   "execution_count": 4,
   "id": "f747fa63",
   "metadata": {},
   "outputs": [
    {
     "name": "stdout",
     "output_type": "stream",
     "text": [
      "     Sky AirTemp Humidity    Wind Water Forecast  EnjoySport\n",
      "0  Sunny    Warm   Normal  Strong  Warm     Same           1\n",
      "1  Sunny    Warm     High  Strong  Warm     Same           1\n",
      "2  Rainy    Cold     High  Strong  Warm   Change           0\n",
      "3  Sunny    Warm     High  Strong  Cool   Change           1\n",
      "Target Category wise Number of Records\n",
      "<class 'pandas.core.frame.DataFrame'>\n",
      "RangeIndex: 4 entries, 0 to 3\n",
      "Data columns (total 7 columns):\n",
      " #   Column      Non-Null Count  Dtype \n",
      "---  ------      --------------  ----- \n",
      " 0   Sky         4 non-null      object\n",
      " 1   AirTemp     4 non-null      object\n",
      " 2   Humidity    4 non-null      object\n",
      " 3   Wind        4 non-null      object\n",
      " 4   Water       4 non-null      object\n",
      " 5   Forecast    4 non-null      object\n",
      " 6   EnjoySport  4 non-null      int64 \n",
      "dtypes: int64(1), object(6)\n",
      "memory usage: 356.0+ bytes\n",
      " The attributes are: \n",
      "[['Sunny' 'Warm' 'Normal' 'Strong' 'Warm' 'Same']\n",
      " ['Sunny' 'Warm' 'High' 'Strong' 'Warm' 'Same']\n",
      " ['Rainy' 'Cold' 'High' 'Strong' 'Warm' 'Change']\n",
      " ['Sunny' 'Warm' 'High' 'Strong' 'Cool' 'Change']]\n",
      "The target is: \n",
      "[1 1 0 1]\n",
      " The final hypothesis is: ['Sunny' 'Warm' '?' 'Strong' '?' '?']\n"
     ]
    }
   ],
   "source": [
    "#### Importing Libraries\n",
    "import numpy as np\n",
    "import pandas as pd\n",
    "\n",
    "#### Load the Dataset\n",
    "data = pd.read_csv(\"C:\\\\Trash\\\\ENJOYSPORT.csv\")\n",
    "print(data)\n",
    "\n",
    "#### About the Dataset\n",
    "print('Target Category wise Number of Records')\n",
    "data.groupby('EnjoySport').size()\n",
    "\n",
    "data.info()\n",
    "\n",
    "#### Separating Independent and Dependant Features\n",
    "input_feat = np.array(data)[:,:-1]\n",
    "print(\" The attributes are: \")\n",
    "print(input_feat)\n",
    "\n",
    "output_feat = np.array(data)[:,-1]\n",
    "print(\"The target is: \")\n",
    "print(output_feat)\n",
    "\n",
    "#### Find-S Algorithm to find the most specific hypothesis\n",
    "def find_S(c, t):\n",
    "    for i, val in enumerate(t):\n",
    "        if val == 1:\n",
    "            specific_hypothesis = c[i].copy()\n",
    "            break\n",
    "    for i, val in enumerate(c):\n",
    "        if t[i] == 1:\n",
    "            for x in range(len(specific_hypothesis)):\n",
    "                if val[x] != specific_hypothesis[x]:\n",
    "                    specific_hypothesis[x] = '?'\n",
    "                else:\n",
    "                    pass\n",
    "    return specific_hypothesis\n",
    "\n",
    "print(\" The final hypothesis is:\", find_S(input_feat, output_feat))\n"
   ]
  },
  {
   "cell_type": "code",
   "execution_count": null,
   "id": "9ad914c8",
   "metadata": {},
   "outputs": [],
   "source": []
  }
 ],
 "metadata": {
  "kernelspec": {
   "display_name": "Python 3 (ipykernel)",
   "language": "python",
   "name": "python3"
  },
  "language_info": {
   "codemirror_mode": {
    "name": "ipython",
    "version": 3
   },
   "file_extension": ".py",
   "mimetype": "text/x-python",
   "name": "python",
   "nbconvert_exporter": "python",
   "pygments_lexer": "ipython3",
   "version": "3.11.3"
  }
 },
 "nbformat": 4,
 "nbformat_minor": 5
}
