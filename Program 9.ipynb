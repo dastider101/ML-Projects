{
 "cells": [
  {
   "cell_type": "code",
   "execution_count": 1,
   "id": "b3e6d3a8",
   "metadata": {},
   "outputs": [
    {
     "ename": "ModuleNotFoundError",
     "evalue": "No module named 'pygad'",
     "output_type": "error",
     "traceback": [
      "\u001b[1;31m---------------------------------------------------------------------------\u001b[0m",
      "\u001b[1;31mModuleNotFoundError\u001b[0m                       Traceback (most recent call last)",
      "Cell \u001b[1;32mIn[1], line 1\u001b[0m\n\u001b[1;32m----> 1\u001b[0m \u001b[38;5;28;01mimport\u001b[39;00m \u001b[38;5;21;01mpygad\u001b[39;00m\n\u001b[0;32m      2\u001b[0m \u001b[38;5;28;01mimport\u001b[39;00m \u001b[38;5;21;01mnumpy\u001b[39;00m\n\u001b[0;32m      3\u001b[0m \u001b[38;5;28;01mimport\u001b[39;00m \u001b[38;5;21;01mwarnings\u001b[39;00m\n",
      "\u001b[1;31mModuleNotFoundError\u001b[0m: No module named 'pygad'"
     ]
    }
   ],
   "source": [
    "import pygad\n",
    "import numpy\n",
    "import warnings\n",
    "warnings.filterwarnings('ignore')\n",
    "\n",
    "# Define the linear problem: y = w1*x1 + w2*x2 + w3*x3 + w4*x4 + w5*x5 + w6*x6\n",
    "# Inputs and the desired output\n",
    "inputs = [4, -2, 3.5, 5, -11, -4.7]\n",
    "desired_output = 44\n",
    "\n",
    "# Define the fitness function\n",
    "def fitness_func(ga_instance, solution, solution_idx):\n",
    "    # Calculate the output based on the given solution (weights)\n",
    "    output = numpy.sum(solution * inputs)\n",
    "    # Calculate fitness as the inverse of the absolute error from the desired output\n",
    "    fitness = 1.0 / numpy.abs(output - desired_output)\n",
    "    return fitness\n",
    "\n",
    "# Parameters for the genetic algorithm\n",
    "fitness_function = fitness_func\n",
    "num_generations = 50\n",
    "num_parents_mating = 4\n",
    "sol_per_pop = 8\n",
    "num_genes = len(inputs)\n",
    "init_range_low = -2\n",
    "init_range_high = 5\n",
    "parent_selection_type = \"sss\"\n",
    "keep_parents = 1\n",
    "crossover_type = \"single_point\"\n",
    "mutation_type = \"random\"\n",
    "mutation_percent_genes = 10\n",
    "\n",
    "# Create a PyGAD instance and run the genetic algorithm\n",
    "ga_instance = pygad.GA(num_generations=num_generations,\n",
    "                      num_parents_mating=num_parents_mating,\n",
    "                      fitness_func=fitness_function,\n",
    "                      sol_per_pop=sol_per_pop,\n",
    "                      num_genes=num_genes,\n",
    "                      init_range_low=init_range_low,\n",
    "                      init_range_high=init_range_high,\n",
    "                      parent_selection_type=parent_selection_type,\n",
    "                      keep_parents=keep_parents,\n",
    "                      crossover_type=crossover_type,\n",
    "                      mutation_type=mutation_type,\n",
    "                      mutation_percent_genes=mutation_percent_genes)\n",
    "ga_instance.run()\n",
    "\n",
    "# Retrieve the best solution found by the genetic algorithm\n",
    "solution, solution_fitness, solution_idx = ga_instance.best_solution()\n",
    "print(\"Parameters of the best solution : \", solution)\n",
    "print(\"Fitness value of the best solution = \", solution_fitness)\n",
    "\n",
    "# Calculate the predicted output based on the best solution\n",
    "prediction = numpy.sum(numpy.array(inputs) * solution)\n",
    "print(\"Predicted output based on the best solution : \", prediction)\n"
   ]
  },
  {
   "cell_type": "code",
   "execution_count": null,
   "id": "841156e9",
   "metadata": {},
   "outputs": [],
   "source": []
  },
  {
   "cell_type": "code",
   "execution_count": null,
   "id": "849a3474",
   "metadata": {},
   "outputs": [],
   "source": []
  }
 ],
 "metadata": {
  "kernelspec": {
   "display_name": "Python 3 (ipykernel)",
   "language": "python",
   "name": "python3"
  },
  "language_info": {
   "codemirror_mode": {
    "name": "ipython",
    "version": 3
   },
   "file_extension": ".py",
   "mimetype": "text/x-python",
   "name": "python",
   "nbconvert_exporter": "python",
   "pygments_lexer": "ipython3",
   "version": "3.11.3"
  }
 },
 "nbformat": 4,
 "nbformat_minor": 5
}
